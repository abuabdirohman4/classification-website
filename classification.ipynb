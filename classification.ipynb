{
 "metadata": {
  "language_info": {
   "codemirror_mode": {
    "name": "ipython",
    "version": 3
   },
   "file_extension": ".py",
   "mimetype": "text/x-python",
   "name": "python",
   "nbconvert_exporter": "python",
   "pygments_lexer": "ipython3",
   "version": "3.9.6"
  },
  "orig_nbformat": 4,
  "kernelspec": {
   "name": "python3",
   "display_name": "Python 3.9.6 64-bit"
  },
  "interpreter": {
   "hash": "aee8b7b246df8f9039afb4144a1f6fd8d2ca17a180786b69acc140d282b71a49"
  }
 },
 "nbformat": 4,
 "nbformat_minor": 2,
 "cells": [
  {
   "cell_type": "code",
   "execution_count": 1,
   "source": [
    "import os\n",
    "import sys\n",
    "import pandas as pd\n",
    "from bs4 import BeautifulSoup\n",
    "from pathlib import Path\n",
    "import xlsxwriter\n",
    "import statistics"
   ],
   "outputs": [],
   "metadata": {}
  },
  {
   "cell_type": "markdown",
   "source": [
    "# Get Header Data"
   ],
   "metadata": {}
  },
  {
   "cell_type": "code",
   "execution_count": 2,
   "source": [
    "def getHeader(file):\n",
    "    with open(file, encoding='utf8') as infile:\n",
    "        soup = BeautifulSoup(infile,'html.parser')\n",
    "        headerList = []\n",
    "\n",
    "        # Get Header Data\n",
    "        header = soup.find_all(\"table\")[2].find(\"tr\")\n",
    "        for items in header:\n",
    "            try:\n",
    "                headerList.append(items.get_text())\n",
    "            except:\n",
    "                continue\n",
    "        return headerList"
   ],
   "outputs": [],
   "metadata": {}
  },
  {
   "cell_type": "markdown",
   "source": [
    "# Get Main Data"
   ],
   "metadata": {}
  },
  {
   "cell_type": "code",
   "execution_count": 3,
   "source": [
    "def getMainData(file, header):\n",
    "    with open(file, encoding='utf8') as infile:\n",
    "        soup = BeautifulSoup(infile,'html.parser')\n",
    "        data = []\n",
    "\n",
    "        # Get Main Data\n",
    "        HTML_data = soup.find_all(\"table\")[2].find_all(\"tr\")[1:]\n",
    "        for element in HTML_data:\n",
    "            sub_data = []\n",
    "            for sub_element in element:\n",
    "                try:\n",
    "                    sub_data.append(sub_element.get_text())\n",
    "                except:\n",
    "                    continue\n",
    "            data.append(sub_data)\n",
    "\n",
    "        dataframe = pd.DataFrame(data=data, columns=header)\n",
    "\n",
    "        return dataframe"
   ],
   "outputs": [],
   "metadata": {}
  },
  {
   "cell_type": "markdown",
   "source": [
    "# Get Indicator"
   ],
   "metadata": {}
  },
  {
   "cell_type": "code",
   "execution_count": 4,
   "source": [
    "# Get sum of indicator data\n",
    "def findVariable(header, data, indicator):\n",
    "    result_indicator = 0\n",
    "    for column in header:\n",
    "        for variable in indicator:\n",
    "            if column == variable:\n",
    "                dataframe = data[column].value_counts().sum()\n",
    "                blank = sum(data[column] == '')\n",
    "                result_indicator = dataframe-blank\n",
    "    return result_indicator"
   ],
   "outputs": [],
   "metadata": {}
  },
  {
   "cell_type": "markdown",
   "source": [
    "# Get Accuracy"
   ],
   "metadata": {}
  },
  {
   "cell_type": "code",
   "execution_count": 5,
   "source": [
    "# Get sum of indicator data\n",
    "def getAccuracy(header, data, indicator):\n",
    "    result_indicator = accuracy = 0\n",
    "    for column in header:\n",
    "        for variable in indicator:\n",
    "            if column == variable:\n",
    "                dataframe = data[column].value_counts().sum()\n",
    "                blank = sum(data[column] == '')\n",
    "                result_indicator = dataframe-blank\n",
    "                accuracy = result_indicator/dataframe\n",
    "    return accuracy"
   ],
   "outputs": [],
   "metadata": {}
  },
  {
   "cell_type": "markdown",
   "source": [
    "# Keywords"
   ],
   "metadata": {}
  },
  {
   "cell_type": "code",
   "execution_count": 6,
   "source": [
    "# Directory Information\n",
    "institute_name = [\"kampus\", \"campus\", \"universitas\", \"institut\", \"sekolah\", \"madrasah\", \"university\", \"school\"]\n",
    "accreditation = ['akreditasi', 'accreditation']\n",
    "institute_address = ['alamat', 'address']\n",
    "institute_number = ['number', 'no', 'phone','contact']\n",
    "\n",
    "# Educational Information\n",
    "educational_history = ['riwayat_pendidikan', 'educational_history', 'degree']\n",
    "educational_medicine = ['catatan_rekam_medis', 'medicine','check up','kesehatan','']\n",
    "educational_grade =[ 'grade', 'nilai']\n",
    "\n",
    "# Personally Identifiable\n",
    "personal_number = ['number', 'no', 'phone', 'mobile']\n",
    "personal_address = ['alamat', 'address']\n",
    "personal_birthday = ['birthday', 'bornday', 'tanggal_lahir', 'birth']\n",
    "personal_religion = ['agama', 'religion']\n",
    "personal_gender = ['gender', 'jenis_kelamin',]\n",
    "personal_parent = ['orang_tua', 'parent', 'parent_name', 'parents']\n",
    "personal_photo = ['photo', 'foto']"
   ],
   "outputs": [],
   "metadata": {}
  },
  {
   "cell_type": "markdown",
   "source": [
    "# Get Result of Indicator & Accuracy"
   ],
   "metadata": {}
  },
  {
   "cell_type": "code",
   "execution_count": 7,
   "source": [
    "# Get sum of a column data on every file\n",
    "total_institute_name = total_accreditation = total_institute_address = total_institute_number = 0\n",
    "total_educational_history = total_educational_medicine = total_educational_grade = 0\n",
    "total_personal_number = total_personal_address = total_personal_birthday = total_personal_religion = total_personal_gender = total_personal_parent = total_personal_photo = 0\n",
    "\n",
    "# Get sum of accuracy column data on every file\n",
    "accuracy_institute_name = accuracy_accreditation = accuracy_institute_address = accuracy_institute_number = 0\n",
    "accuracy_educational_history = accuracy_educational_medicine = accuracy_educational_grade = 0\n",
    "accuracy_personal_number = accuracy_personal_address = accuracy_personal_birthday = accuracy_personal_religion = accuracy_personal_gender = accuracy_personal_parent = accuracy_personal_photo = 0\n",
    "\n",
    "prev_institute_name = prev_accreditation = prev_institute_address = prev_institute_number = 0\n",
    "prev_educational_history = prev_educational_medicine = prev_educational_grade = 0\n",
    "prev_personal_number = prev_personal_address = prev_personal_birthday = prev_personal_religion = prev_personal_gender = prev_personal_parent = prev_personal_photo = 0\n",
    "\n",
    "length_institute_name = length_accreditation = length_institute_address = length_institute_number = 0\n",
    "length_educational_history = length_educational_medicine = length_educational_grade = 0\n",
    "length_personal_number = length_personal_address = length_personal_birthday = length_personal_religion = length_personal_gender = length_personal_parent = length_personal_photo = 0\n",
    "\n",
    "for file in Path(\"website/website 2\").iterdir():\n",
    "    # Get Main Data\n",
    "    header = getHeader(file)\n",
    "    data = getMainData(file, header)\n",
    "\n",
    "    if file.is_file():\n",
    "        # Directory Information\n",
    "        total_institute_name += findVariable(header, data, institute_name)\n",
    "        total_accreditation += findVariable(header, data, accreditation)\n",
    "        total_institute_address += findVariable(header, data, institute_address)\n",
    "        total_institute_number += findVariable(header, data, institute_number)\n",
    "\n",
    "        # # Educational Information\n",
    "        total_educational_history += findVariable(header, data, educational_history)\n",
    "        total_educational_medicine += findVariable(header, data, educational_medicine)\n",
    "        total_educational_grade += findVariable(header, data, educational_grade)\n",
    "\n",
    "        # # Personally Identifiable\n",
    "        total_personal_number += findVariable(header, data, personal_number)\n",
    "        total_personal_address += findVariable(header, data, personal_address)\n",
    "        total_personal_birthday += findVariable(header, data, personal_birthday)\n",
    "        total_personal_religion += findVariable(header, data, personal_religion)\n",
    "        total_personal_gender += findVariable(header, data, personal_gender)\n",
    "        total_personal_parent += findVariable(header, data, personal_parent)\n",
    "        total_personal_photo += findVariable(header, data, personal_photo)\n",
    "\n",
    "        # # Accuracy\n",
    "        # # Directory Information\n",
    "        accuracy_institute_name += getAccuracy(header, data, institute_name)\n",
    "        if accuracy_institute_name != prev_institute_name:\n",
    "            prev_institute_name = accuracy_institute_name\n",
    "            length_institute_name += 1\n",
    "        accuracy_accreditation += getAccuracy(header, data, accreditation)\n",
    "        if accuracy_accreditation != prev_accreditation:\n",
    "            prev_accreditation = accuracy_accreditation\n",
    "            length_accreditation += 1\n",
    "        accuracy_institute_address += getAccuracy(header, data, institute_address)\n",
    "        if accuracy_institute_address != prev_institute_address:\n",
    "            prev_institute_address = accuracy_institute_address\n",
    "            length_institute_address += 1\n",
    "        accuracy_institute_number += getAccuracy(header, data, institute_number)\n",
    "        if accuracy_institute_number != prev_institute_number:\n",
    "            prev_institute_number = accuracy_institute_number\n",
    "            length_institute_number += 1\n",
    "\n",
    "        # # Educational Information\n",
    "        accuracy_educational_history += getAccuracy(header, data, educational_history)\n",
    "        if accuracy_educational_history != prev_educational_history:\n",
    "            prev_educational_history = accuracy_educational_history\n",
    "            length_educational_history += 1\n",
    "        accuracy_educational_medicine += getAccuracy(header, data, educational_medicine)\n",
    "        if accuracy_educational_medicine != prev_educational_medicine:\n",
    "            prev_educational_medicine = accuracy_educational_medicine\n",
    "            length_educational_medicine += 1\n",
    "        accuracy_educational_grade += getAccuracy(header, data, educational_grade)\n",
    "        if accuracy_educational_grade != prev_educational_grade:\n",
    "            prev_educational_grade = accuracy_educational_grade\n",
    "            length_educational_grade += 1\n",
    "\n",
    "        # # Personally Identifiable\n",
    "        accuracy_personal_number += getAccuracy(header, data, personal_number)\n",
    "        if accuracy_personal_number != prev_personal_number:\n",
    "            prev_personal_number = accuracy_personal_number\n",
    "            length_personal_number += 1\n",
    "        accuracy_personal_address += getAccuracy(header, data, personal_address)\n",
    "        if accuracy_personal_address != prev_personal_address:\n",
    "            prev_personal_address = accuracy_personal_address\n",
    "            length_personal_address += 1\n",
    "        accuracy_personal_birthday += getAccuracy(header, data, personal_birthday)\n",
    "        if accuracy_personal_birthday != prev_personal_birthday:\n",
    "            prev_personal_birthday = accuracy_personal_birthday\n",
    "            length_personal_birthday += 1\n",
    "        accuracy_personal_religion += getAccuracy(header, data, personal_religion)\n",
    "        if accuracy_personal_religion != prev_personal_religion:\n",
    "            prev_personal_religion = accuracy_personal_religion\n",
    "            length_personal_religion += 1\n",
    "        accuracy_personal_gender += getAccuracy(header, data, personal_gender)\n",
    "        if accuracy_personal_gender != prev_personal_gender:\n",
    "            prev_personal_gender = accuracy_personal_gender\n",
    "            length_personal_gender += 1\n",
    "        accuracy_personal_parent += getAccuracy(header, data, personal_parent)\n",
    "        if accuracy_personal_parent != prev_personal_parent:\n",
    "            prev_personal_parent = accuracy_personal_parent\n",
    "            length_personal_parent += 1\n",
    "        accuracy_personal_photo += getAccuracy(header, data, personal_photo)\n",
    "        if accuracy_personal_photo != prev_personal_photo:\n",
    "            prev_personal_photo = accuracy_personal_photo\n",
    "            length_personal_photo += 1"
   ],
   "outputs": [],
   "metadata": {
    "tags": []
   }
  },
  {
   "cell_type": "code",
   "execution_count": 8,
   "source": [
    "# print(\"Directory Information\")\n",
    "# print(\"Nama Institusi : \", total_institute_name)\n",
    "# print(\"Akreditasi : \", total_accreditation)\n",
    "# print(\"Alamat Institusi : \", total_institute_address)\n",
    "# print(\"Nomor Telepon : \", total_institute_number,\"\\n\")\n",
    "\n",
    "# print(\"Educational Information\")\n",
    "# print(\"Riwayat Pendidikan : \", total_educational_history)\n",
    "# print(\"Catatan Rekam Medis : \", total_educational_medicine)\n",
    "# print(\"Nilai : \", total_educational_grade,\"\\n\")\n",
    "\n",
    "# print(\"Personally Identifiable\")\n",
    "# print(\"No Hp Siswa : \", total_personal_number)\n",
    "# print(\"Alamat Rumah Siswa : \", total_personal_address)\n",
    "# print(\"Tempat Tanggal Lahir : \", total_personal_birthday)\n",
    "# print(\"Agama : \", total_personal_religion)\n",
    "# print(\"Jenis Kelamin : \", total_personal_gender)\n",
    "# print(\"Nama Orang Tua : \", total_personal_parent)\n",
    "# print(\"Foto Diri : \", total_personal_photo)"
   ],
   "outputs": [
    {
     "output_type": "stream",
     "name": "stdout",
     "text": [
      "Directory Information\n",
      "Nama Institusi :  26\n",
      "Akreditasi :  0\n",
      "Alamat Institusi :  797\n",
      "Nomor Telepon :  22 \n",
      "\n",
      "Educational Information\n",
      "Riwayat Pendidikan :  26\n",
      "Catatan Rekam Medis :  0\n",
      "Nilai :  0 \n",
      "\n",
      "Personally Identifiable\n",
      "No Hp Siswa :  4783\n",
      "Alamat Rumah Siswa :  797\n",
      "Tempat Tanggal Lahir :  23\n",
      "Agama :  0\n",
      "Jenis Kelamin :  0\n",
      "Nama Orang Tua :  0\n",
      "Foto Diri :  0\n"
     ]
    }
   ],
   "metadata": {}
  },
  {
   "cell_type": "code",
   "execution_count": 9,
   "source": [
    "accuracy_institute_name = accuracy_institute_name/length_institute_name if length_institute_name != 0 else 0\n",
    "accuracy_accreditation = accuracy_accreditation/length_accreditation if length_accreditation != 0 else 0\n",
    "accuracy_institute_address = accuracy_institute_address/length_institute_address if length_institute_address != 0 else 0\n",
    "accuracy_institute_number = accuracy_institute_number/length_institute_number if length_institute_number != 0 else 0\n",
    "\n",
    "accuracy_educational_history = accuracy_educational_history/length_educational_history if length_educational_history != 0 else 0\n",
    "accuracy_educational_medicine = accuracy_educational_medicine/length_educational_medicine if length_educational_medicine != 0 else 0\n",
    "accuracy_educational_grade = accuracy_educational_grade/length_educational_grade if length_educational_grade != 0 else 0\n",
    "\n",
    "accuracy_personal_number = accuracy_personal_number/length_personal_number if length_personal_number != 0 else 0\n",
    "accuracy_personal_address = accuracy_personal_address/length_personal_address if length_personal_address != 0 else 0\n",
    "accuracy_personal_birthday = accuracy_personal_birthday/length_personal_birthday if length_personal_birthday != 0 else 0\n",
    "accuracy_personal_religion = accuracy_personal_religion/length_personal_religion if length_personal_religion != 0 else 0\n",
    "accuracy_personal_gender = accuracy_personal_gender/length_personal_gender if length_personal_gender != 0 else 0\n",
    "accuracy_personal_parent = accuracy_personal_parent/length_personal_parent if length_personal_parent != 0 else 0\n",
    "accuracy_personal_photo = accuracy_personal_photo/length_personal_photo if length_personal_photo != 0 else 0"
   ],
   "outputs": [
    {
     "output_type": "stream",
     "name": "stdout",
     "text": [
      "Accuracy\n",
      "Directory Information\n",
      "Nama Institusi :  1.0\n",
      "Akreditasi :  0\n",
      "Alamat Institusi :  0.8839727110935338\n",
      "Nomor Telepon :  0.8461538461538461 \n",
      "\n",
      "Educational Information\n",
      "Riwayat Pendidikan :  1.0\n",
      "Catatan Rekam Medis :  0\n",
      "Nilai :  0 \n",
      "\n",
      "Personally Identifiable\n",
      "No Hp Siswa :  0.9610422498559001\n",
      "Alamat Rumah Siswa :  0.8839727110935338\n",
      "Tempat Tanggal Lahir :  0.8846153846153846\n",
      "Agama :  0\n",
      "Jenis Kelamin :  0\n",
      "Nama Orang Tua :  0\n",
      "Foto Diri :  0\n"
     ]
    }
   ],
   "metadata": {}
  },
  {
   "cell_type": "code",
   "execution_count": null,
   "source": [
    "# print(\"Accuracy\")\n",
    "# print(\"Directory Information\")\n",
    "# print(\"Nama Institusi : \", accuracy_institute_name)\n",
    "# print(\"Akreditasi : \", accuracy_accreditation)\n",
    "# print(\"Alamat Institusi : \", accuracy_institute_address)\n",
    "# print(\"Nomor Telepon : \", accuracy_institute_number,\"\\n\")\n",
    "\n",
    "# print(\"Educational Information\")\n",
    "# print(\"Riwayat Pendidikan : \", accuracy_educational_history)\n",
    "# print(\"Catatan Rekam Medis : \", accuracy_educational_medicine)\n",
    "# print(\"Nilai : \", accuracy_educational_grade,\"\\n\")\n",
    "\n",
    "# print(\"Personally Identifiable\")\n",
    "# print(\"No Hp Siswa : \", accuracy_personal_number)\n",
    "# print(\"Alamat Rumah Siswa : \", accuracy_personal_address)\n",
    "# print(\"Tempat Tanggal Lahir : \", accuracy_personal_birthday)\n",
    "# print(\"Agama : \", accuracy_personal_religion)\n",
    "# print(\"Jenis Kelamin : \", accuracy_personal_gender)\n",
    "# print(\"Nama Orang Tua : \", accuracy_personal_parent)\n",
    "# print(\"Foto Diri : \", accuracy_personal_photo)"
   ],
   "outputs": [],
   "metadata": {}
  },
  {
   "cell_type": "markdown",
   "source": [
    "# End Result"
   ],
   "metadata": {}
  },
  {
   "cell_type": "code",
   "execution_count": 10,
   "source": [
    "# End Result\n",
    "directory_information = total_institute_name + total_accreditation + total_institute_address + total_institute_number\n",
    "educational_information = total_educational_history + total_educational_medicine + total_educational_grade\n",
    "personally_identifiable = total_personal_number + total_personal_address + total_personal_birthday + total_personal_religion + total_personal_gender + total_personal_parent + total_personal_photo\n",
    "\n",
    "print(\"Directory Information : \", directory_information)\n",
    "print(\"Educational Information : \", educational_information)\n",
    "print(\"Personally Identifiable : \", personally_identifiable)"
   ],
   "outputs": [
    {
     "output_type": "stream",
     "name": "stdout",
     "text": [
      "Directory Information :  845\n",
      "Educational Information :  26\n",
      "Personally Identifiable :  5603\n"
     ]
    }
   ],
   "metadata": {}
  },
  {
   "cell_type": "code",
   "execution_count": 11,
   "source": [
    "accuracy_directory_information_list = [accuracy_institute_name,accuracy_accreditation,accuracy_institute_address,accuracy_institute_number]\n",
    "accuracy_educational_information_list = [accuracy_educational_history,accuracy_educational_medicine,accuracy_educational_grade]\n",
    "accuracy_personally_identifiable_list = [accuracy_personal_number,accuracy_personal_address,accuracy_personal_birthday,accuracy_personal_religion,accuracy_personal_gender,accuracy_personal_parent,accuracy_personal_photo]\n",
    "\n",
    "accuracy_directory_information = statistics.mean(accuracy_directory_information_list)\n",
    "accuracy_educational_information = statistics.mean(accuracy_educational_information_list)\n",
    "accuracy_personally_identifiable = statistics.mean(accuracy_personally_identifiable_list)\n",
    "\n",
    "accuracy_website = (accuracy_directory_information+accuracy_educational_information+accuracy_personally_identifiable) / 3\n",
    "print(\"Accuracy Website : \", str(round(accuracy_website, 3)),\"%\")\n",
    "\n",
    "output_accuracy = \"Akurasi Pengujian = {0:.2%}\".format(accuracy_website)"
   ],
   "outputs": [
    {
     "output_type": "stream",
     "name": "stdout",
     "text": [
      "Accuracy Website :  0.469 %\n"
     ]
    }
   ],
   "metadata": {}
  },
  {
   "cell_type": "markdown",
   "source": [
    "# Preparation Data for Excel"
   ],
   "metadata": {}
  },
  {
   "cell_type": "code",
   "execution_count": 12,
   "source": [
    "# Preparation Data\n",
    "directory_indicator = [\"Nama Institusi\",\"Akreditasi\",\"Alamat Institusi\",\"Nomor Telepon\"]\n",
    "educational_indicator = [\"Riwayat Pendidikan\",\"Catatan Rekam Medis\",\"Nilai\"]\n",
    "personally_indicator = [\"No HP Siswa\",\"Alamat Rumah Siswa\",\"Tempat Tanggal Lahir\",\"Agama\",\"Jenis Kelamin\",\"Nama Orang Tua\",\"Foto Diri\"]\n",
    "\n",
    "result_directory_indicator = [total_institute_name,total_accreditation,total_institute_address,total_institute_number]\n",
    "result_educational_indicator = [total_educational_history,total_educational_medicine,total_educational_grade]\n",
    "result_personally_indicator = [total_personal_number,total_personal_address,total_personal_birthday,total_personal_religion,total_personal_gender,total_personal_parent,total_personal_photo]\n",
    "\n",
    "accuracy_directory_indicator = [accuracy_institute_name,accuracy_accreditation,accuracy_institute_address,accuracy_institute_number]\n",
    "accuracy_educational_indicator = [accuracy_educational_history,accuracy_educational_medicine,accuracy_educational_grade]\n",
    "accuracy_personally_indicator = [accuracy_personal_number,accuracy_personal_address,accuracy_personal_birthday,accuracy_personal_religion,accuracy_personal_gender,accuracy_personal_parent,accuracy_personal_photo]"
   ],
   "outputs": [],
   "metadata": {}
  },
  {
   "cell_type": "code",
   "execution_count": 13,
   "source": [
    "def merge(list1,list2,list3):\n",
    "    merged_list = tuple(zip(list1,list2,list3))\n",
    "    return merged_list"
   ],
   "outputs": [],
   "metadata": {}
  },
  {
   "cell_type": "code",
   "execution_count": 14,
   "source": [
    "directory = merge(directory_indicator,result_directory_indicator,accuracy_directory_indicator)\n",
    "educational = merge(educational_indicator,result_educational_indicator,accuracy_educational_indicator)\n",
    "personally = merge(personally_indicator,result_personally_indicator,accuracy_personally_indicator)"
   ],
   "outputs": [],
   "metadata": {}
  },
  {
   "cell_type": "markdown",
   "source": [
    "# Excel Output"
   ],
   "metadata": {}
  },
  {
   "cell_type": "code",
   "execution_count": 42,
   "source": [
    "# Create a workbook and add a worksheet.\n",
    "workbook = xlsxwriter.Workbook('Output.xlsx')\n",
    "worksheet = workbook.add_worksheet()\n",
    "\n",
    "# Format Cell\n",
    "align_format = workbook.add_format({'align': 'center'})\n",
    "num_format = workbook.add_format({'num_format': '0.00%','align': 'center'})\n",
    "border_format = workbook.add_format({'border':1})\n",
    "worksheet.conditional_format( 'A1:I10' , {'type' : 'blanks','format' : border_format} )\n",
    "worksheet.conditional_format( 'A1:I10' , {'type' : 'no_blanks','format' : border_format} )\n",
    "worksheet.conditional_format( 'A11:I11' , {'type' : 'no_blanks','format' : border_format} )"
   ],
   "outputs": [
    {
     "output_type": "execute_result",
     "data": {
      "text/plain": [
       "0"
      ]
     },
     "metadata": {},
     "execution_count": 42
    }
   ],
   "metadata": {}
  },
  {
   "cell_type": "code",
   "execution_count": 43,
   "source": [
    "def excelOutput(category,col_indicator,col_data,col_accuracy,total_data,total_accuracy):\n",
    "    row = 1\n",
    "    row_total = 9\n",
    "    \n",
    "    # Sub Header\n",
    "    worksheet.write(row, col_indicator, 'Indikator')\n",
    "    worksheet.write(row, col_data, 'Data', align_format)\n",
    "    worksheet.write(row, col_accuracy, 'Akurasi', align_format)\n",
    "    row += 1\n",
    "\n",
    "    for indicator, data, accuracy in category:\n",
    "        worksheet.write(row, col_indicator, indicator)\n",
    "        worksheet.write(row, col_data, data, align_format)\n",
    "        worksheet.write(row, col_accuracy, accuracy, num_format)\n",
    "        row += 1 \n",
    "\n",
    "    worksheet.write(row_total, col_data, total_data, align_format)\n",
    "    worksheet.write(row_total, col_accuracy, total_accuracy, num_format)"
   ],
   "outputs": [],
   "metadata": {}
  },
  {
   "cell_type": "code",
   "execution_count": 44,
   "source": [
    "# Column Size\n",
    "worksheet.set_column('A:A', 15)\n",
    "worksheet.set_column('D:D', 20)\n",
    "worksheet.set_column('G:G', 22)\n",
    "\n",
    "# Header\n",
    "worksheet.merge_range('A1:C1', 'Directory Information', align_format)\n",
    "worksheet.merge_range('D1:F1', 'Educational Information', align_format)\n",
    "worksheet.merge_range('G1:I1', 'Personally Identifiable', align_format)\n",
    "worksheet.merge_range('A11:I11', output_accuracy, align_format)\n",
    "\n",
    "# Main Data\n",
    "excelOutput(directory,0,1,2,'=SUM(B1:B7)','=AVERAGE(C1:C7)')\n",
    "excelOutput(educational,3,4,5,'=SUM(E1:E7)','=AVERAGE(F1:F7)')\n",
    "excelOutput(personally,6,7,8,'=SUM(H1:H9)','=AVERAGE(I1:I9)')"
   ],
   "outputs": [],
   "metadata": {}
  },
  {
   "cell_type": "code",
   "execution_count": 45,
   "source": [
    "# Total Data & Save File\n",
    "worksheet.write(9, 0, 'Total', align_format)\n",
    "workbook.close()"
   ],
   "outputs": [],
   "metadata": {}
  },
  {
   "cell_type": "code",
   "execution_count": null,
   "source": [],
   "outputs": [],
   "metadata": {}
  }
 ]
}